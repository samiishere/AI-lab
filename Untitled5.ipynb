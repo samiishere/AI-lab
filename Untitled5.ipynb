{
 "cells": [
  {
   "cell_type": "markdown",
   "id": "f3a786f0",
   "metadata": {},
   "source": [
    "Write a program to find prime number with in a range using function."
   ]
  },
  {
   "cell_type": "code",
   "execution_count": 3,
   "id": "a8692e25-dc02-487d-b868-a9ce002acd28",
   "metadata": {},
   "outputs": [
    {
     "name": "stdout",
     "output_type": "stream",
     "text": [
      "enter first part of range:  1\n",
      "enter last Part of the range:  10\n"
     ]
    },
    {
     "name": "stdout",
     "output_type": "stream",
     "text": [
      "Prime numbers between 1 and 10 are:\n",
      "[2, 3, 5, 7]\n"
     ]
    }
   ],
   "source": [
    "def is_prime(num):\n",
    "    if num < 2:\n",
    "        return False\n",
    "    for i in range(2, num // 2 + 1):\n",
    "        if num % i == 0:\n",
    "            return False\n",
    "    return True\n",
    "\n",
    "start = int(input(\"enter first part of range: \"))\n",
    "end = int(input(\"enter last Part of the range: \"))\n",
    "\n",
    "prime_numbers = []\n",
    "for i in range(start, end + 1):\n",
    "    if is_prime(i):\n",
    "        prime_numbers.append(i)\n",
    "\n",
    "print(\"Prime numbers between\", start, \"and\", end, \"are:\")\n",
    "print(prime_numbers)"
   ]
  },
  {
   "cell_type": "markdown",
   "id": "bf80d451",
   "metadata": {},
   "source": [
    "Write a program to check palindrome."
   ]
  },
  {
   "cell_type": "code",
   "execution_count": 9,
   "id": "f66b96d6-0863-4d29-bbcb-93faefe64338",
   "metadata": {},
   "outputs": [
    {
     "name": "stdout",
     "output_type": "stream",
     "text": [
      "Enter a number:  151\n"
     ]
    },
    {
     "name": "stdout",
     "output_type": "stream",
     "text": [
      "The number is palindrome\n"
     ]
    }
   ],
   "source": [
    "num = int(input(\"Enter a number: \"))\n",
    "temp = num\n",
    "rev = 0\n",
    "while num > 0:\n",
    "    dig = num % 10\n",
    "    rev = rev * 10 + dig\n",
    "    num = num // 10\n",
    "if temp == rev:\n",
    "    print(\"The number is palindrome\")\n",
    "else:\n",
    "    print(\"The number isn't palindrome\")"
   ]
  },
  {
   "cell_type": "markdown",
   "id": "d5af01ba",
   "metadata": {},
   "source": [
    "Write a program to generate the Fibonacci sequence of a given number."
   ]
  },
  {
   "cell_type": "code",
   "execution_count": 13,
   "id": "5a1f1e29-4d03-4ea2-be43-fc9991cb3df9",
   "metadata": {},
   "outputs": [
    {
     "name": "stdout",
     "output_type": "stream",
     "text": [
      "Enter a number:  10\n"
     ]
    },
    {
     "name": "stdout",
     "output_type": "stream",
     "text": [
      "Fibonacci sequence of 10 is:\n",
      "[0, 1, 1, 2, 3, 5, 8, 13, 21, 34]\n"
     ]
    }
   ],
   "source": [
    "num = int(input(\"Enter a number: \"))\n",
    "a = 0\n",
    "b = 1\n",
    "fib = []\n",
    "for i in range(num):\n",
    "    fib.append(a)\n",
    "    a, b = b, a + b\n",
    "print(\"Fibonacci sequence of\", num, \"is:\")\n",
    "print(fib)"
   ]
  },
  {
   "cell_type": "markdown",
   "id": "eec24e6a",
   "metadata": {},
   "source": [
    "Create a number guessing game. Where you have to generate a random number in between 1 to 100 and user have to prompt a number for guess.\n",
    "if its high or low number let the user know and guide them through the process to guess correct number."
   ]
  },
  {
   "cell_type": "code",
   "execution_count": null,
   "id": "0ecbc50f-d3aa-4710-b0ba-d039c6c0d4ac",
   "metadata": {},
   "outputs": [
    {
     "name": "stdout",
     "output_type": "stream",
     "text": [
      "Welcome to the Number Guessing Game!\n",
      "I'm thinking of a number between 1 and 100.\n"
     ]
    },
    {
     "name": "stdout",
     "output_type": "stream",
     "text": [
      "Enter your guess:  54\n"
     ]
    },
    {
     "name": "stdout",
     "output_type": "stream",
     "text": [
      "higher. guess again!\n"
     ]
    }
   ],
   "source": [
    "import random\n",
    "\n",
    "def number_guessing_game():\n",
    "    gen_number = random.randint(1, 100)\n",
    "    \n",
    "    print(\"Welcome to the Number Guessing Game!\")\n",
    "    print(\"I'm thinking of a number between 1 and 100.\")\n",
    "    \n",
    "    attempts = 0\n",
    "    while True:\n",
    "        guess = int(input(\"Enter your guess: \"))\n",
    "        attempts = attempts + 1\n",
    "        \n",
    "        if guess < gen_number:\n",
    "            print(\"lower. guess again!\")\n",
    "        elif guess > gen_number:\n",
    "            print(\"higher. guess again!\")\n",
    "        else:\n",
    "            print(f\"Congratulations! You've guessed the number {gen_number} correctly in {attempts} attempts.\")\n",
    "            break\n",
    "\n",
    "number_guessing_game()\n"
   ]
  },
  {
   "cell_type": "code",
   "execution_count": null,
   "id": "95b57cd4-ad6d-4139-93ee-ee2e2b7f1ba5",
   "metadata": {},
   "outputs": [],
   "source": []
  }
 ],
 "metadata": {
  "kernelspec": {
   "display_name": "Python 3 (ipykernel)",
   "language": "python",
   "name": "python3"
  },
  "language_info": {
   "codemirror_mode": {
    "name": "ipython",
    "version": 3
   },
   "file_extension": ".py",
   "mimetype": "text/x-python",
   "name": "python",
   "nbconvert_exporter": "python",
   "pygments_lexer": "ipython3",
   "version": "3.11.7"
  }
 },
 "nbformat": 4,
 "nbformat_minor": 5
}
